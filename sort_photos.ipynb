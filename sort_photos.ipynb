{
 "cells": [
  {
   "cell_type": "code",
   "execution_count": 2,
   "metadata": {},
   "outputs": [],
   "source": [
    "import os\n",
    "import pandas as pd\n",
    "import shutil\n",
    "\n",
    "# Definir o caminho do arquivo RoCoLe-classes e das fotos\n",
    "path_classes = r\"D:\\Documents\\UFU\\RoCoLe\\Annotations\\RoCoLe-classes.xlsx\"\n",
    "path_photos = r\"D:\\Documents\\UFU\\RoCoLe\\Photos\"\n",
    "\n",
    "# Ler o arquivo xlsx utilizando a biblioteca pandas\n",
    "classes_df = pd.read_excel(path_classes)\n",
    "\n",
    "# Criar as pastas \"healthy\" e \"unhealthy\" dentro do caminho das fotos\n",
    "os.makedirs(os.path.join(path_photos, \"healthy\"), exist_ok=True)\n",
    "os.makedirs(os.path.join(path_photos, \"rust_level_1\"), exist_ok=True)\n",
    "os.makedirs(os.path.join(path_photos, \"rust_level_2\"), exist_ok=True)\n",
    "os.makedirs(os.path.join(path_photos, \"rust_level_3\"), exist_ok=True)\n",
    "os.makedirs(os.path.join(path_photos, \"rust_level_4\"), exist_ok=True)\n",
    "os.makedirs(os.path.join(path_photos, \"red_spider_mite\"), exist_ok=True)\n",
    "\n",
    "# Iterar sobre cada linha do DataFrame e copiar o arquivo correspondente para a pasta adequada\n",
    "for index, row in classes_df.iterrows():\n",
    "    filename = row[\"File\"]\n",
    "    label = row[\"Multiclass.Label\"]\n",
    "    source_path = os.path.join(path_photos, filename)\n",
    "    if label == \"healthy\":\n",
    "        dest_path = os.path.join(path_photos, \"healthy\", filename)\n",
    "        shutil.copyfile(source_path, dest_path)\n",
    "    elif label == \"rust_level_1\":\n",
    "        dest_path = os.path.join(path_photos, \"rust_level_1\", filename)\n",
    "        shutil.copyfile(source_path, dest_path)\n",
    "    elif label == \"rust_level_2\":\n",
    "        dest_path = os.path.join(path_photos, \"rust_level_2\", filename)\n",
    "        shutil.copyfile(source_path, dest_path)\n",
    "    elif label == \"rust_level_3\":\n",
    "        dest_path = os.path.join(path_photos, \"rust_level_3\", filename)\n",
    "        shutil.copyfile(source_path, dest_path)\n",
    "    elif label == \"rust_level_4\":\n",
    "        dest_path = os.path.join(path_photos, \"rust_level_4\", filename)\n",
    "        shutil.copyfile(source_path, dest_path)\n",
    "    elif label == \"red_spider_mite\":\n",
    "        dest_path = os.path.join(path_photos, \"red_spider_mite\", filename)\n",
    "        shutil.copyfile(source_path, dest_path)\n",
    "    else:\n",
    "        print(f\"Label inválida para o arquivo {filename}\")\n"
   ]
  }
 ],
 "metadata": {
  "kernelspec": {
   "display_name": "tcc1",
   "language": "python",
   "name": "python3"
  },
  "language_info": {
   "codemirror_mode": {
    "name": "ipython",
    "version": 3
   },
   "file_extension": ".py",
   "mimetype": "text/x-python",
   "name": "python",
   "nbconvert_exporter": "python",
   "pygments_lexer": "ipython3",
   "version": "3.8.16"
  },
  "orig_nbformat": 4
 },
 "nbformat": 4,
 "nbformat_minor": 2
}
